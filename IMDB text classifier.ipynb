{
 "cells": [
  {
   "cell_type": "markdown",
   "metadata": {
    "id": "JMzGaB-fjcIz"
   },
   "source": [
    "# Libraries"
   ]
  },
  {
   "cell_type": "code",
   "execution_count": 1,
   "metadata": {
    "colab": {
     "base_uri": "https://localhost:8080/"
    },
    "id": "_ySXdpuaPtV9",
    "outputId": "6e74d334-7270-4f85-f064-133067efb3ce"
   },
   "outputs": [
    {
     "name": "stderr",
     "output_type": "stream",
     "text": [
      "[nltk_data] Downloading package stopwords to /root/nltk_data...\n",
      "[nltk_data]   Unzipping corpora/stopwords.zip.\n"
     ]
    }
   ],
   "source": [
    "import numpy as np\n",
    "import matplotlib.pyplot as plt\n",
    "\n",
    "from collections import Counter\n",
    "\n",
    "# from nltk.corpus import stopwords\n",
    "import nltk\n",
    "nltk.download('stopwords')\n",
    "from nltk.corpus import stopwords\n",
    "\n",
    "import string\n",
    "from string import punctuation"
   ]
  },
  {
   "cell_type": "code",
   "execution_count": 2,
   "metadata": {
    "id": "teqvCsFKjfRP"
   },
   "outputs": [],
   "source": [
    "from tensorflow.keras.datasets import imdb\n",
    "from tensorflow.keras.models import Sequential\n",
    "from tensorflow.keras.layers import Dense\n",
    "from tensorflow.keras.layers import Flatten\n",
    "from tensorflow.keras.layers import Embedding\n",
    "from tensorflow.keras.preprocessing import sequence\n",
    "\n",
    "from tensorflow.keras.layers import GRU, LSTM\n",
    "from tensorflow.keras.layers import Bidirectional\n",
    "\n",
    "from tensorflow.keras.layers import Dropout\n",
    "from tensorflow.keras import regularizers\n",
    "\n",
    "from tensorflow.keras.preprocessing.text import Tokenizer\n",
    "from tensorflow.keras.utils import pad_sequences"
   ]
  },
  {
   "cell_type": "markdown",
   "metadata": {
    "id": "A_ijVkJNje2h"
   },
   "source": [
    "# Data Preparation"
   ]
  },
  {
   "cell_type": "code",
   "execution_count": 3,
   "metadata": {
    "colab": {
     "base_uri": "https://localhost:8080/"
    },
    "id": "NZ0zC-1Gjm6G",
    "outputId": "0cca5e32-3378-45b1-b581-e0da97c733fe"
   },
   "outputs": [
    {
     "name": "stdout",
     "output_type": "stream",
     "text": [
      "Downloading data from https://storage.googleapis.com/tensorflow/tf-keras-datasets/imdb.npz\n",
      "17464789/17464789 [==============================] - 2s 0us/step\n"
     ]
    }
   ],
   "source": [
    "# load the dataset; keep the top n words and zero the rest\n",
    "top_words = 5000\n",
    "(X_train, y_train), (X_test, y_test) = imdb.load_data(num_words=top_words) # data comes already pre-processed\n",
    "\n",
    "# subset the data for faster experiments\n",
    "X_train = X_train[:5000]\n",
    "y_train = y_train[:5000]\n",
    "\n",
    "X_test = X_test[:1000]\n",
    "y_test = y_test[:1000]\n",
    "\n",
    "max_words = 500\n",
    "X_train = sequence.pad_sequences(X_train, maxlen=max_words)\n",
    "X_test = sequence.pad_sequences(X_test, maxlen=max_words)"
   ]
  },
  {
   "cell_type": "code",
   "execution_count": 4,
   "metadata": {
    "colab": {
     "base_uri": "https://localhost:8080/"
    },
    "id": "J2_H_GhaOoLQ",
    "outputId": "66aa4bc6-2602-4c2e-923b-6a11e481d926"
   },
   "outputs": [
    {
     "name": "stdout",
     "output_type": "stream",
     "text": [
      "(5000, 500) (1000, 500)\n"
     ]
    }
   ],
   "source": [
    "print(X_train.shape, X_test.shape)"
   ]
  },
  {
   "cell_type": "code",
   "execution_count": 5,
   "metadata": {
    "colab": {
     "base_uri": "https://localhost:8080/"
    },
    "id": "1D8lmpMPkB_J",
    "outputId": "5473e171-fc29-4f1c-9944-57605f080ae4"
   },
   "outputs": [
    {
     "data": {
      "text/plain": [
       "(1,\n",
       " array([   0,    0,    0,    0,    0,    0,    0,    0,    0,    0,    0,\n",
       "           0,    0,    0,    0,    0,    0,    0,    0,    0,    0,    0,\n",
       "           0,    0,    0,    0,    0,    0,    0,    0,    0,    0,    0,\n",
       "           0,    0,    0,    0,    0,    0,    0,    0,    0,    0,    0,\n",
       "           0,    0,    0,    0,    0,    0,    0,    0,    0,    0,    0,\n",
       "           0,    0,    0,    0,    0,    0,    0,    0,    0,    0,    0,\n",
       "           0,    0,    0,    0,    0,    0,    0,    0,    0,    0,    0,\n",
       "           0,    0,    0,    0,    0,    0,    0,    0,    0,    0,    0,\n",
       "           0,    0,    0,    0,    0,    0,    0,    0,    0,    0,    0,\n",
       "           0,    0,    0,    0,    0,    0,    0,    0,    0,    0,    0,\n",
       "           0,    0,    0,    0,    0,    0,    0,    0,    0,    0,    0,\n",
       "           0,    0,    0,    0,    0,    0,    0,    0,    0,    0,    0,\n",
       "           0,    0,    0,    0,    0,    0,    0,    0,    0,    0,    0,\n",
       "           0,    0,    0,    0,    0,    0,    0,    0,    0,    0,    0,\n",
       "           0,    0,    0,    0,    0,    0,    0,    0,    0,    0,    0,\n",
       "           0,    0,    0,    0,    0,    0,    0,    0,    0,    0,    0,\n",
       "           0,    0,    0,    0,    0,    0,    0,    0,    0,    0,    0,\n",
       "           0,    0,    0,    0,    0,    0,    0,    0,    0,    0,    0,\n",
       "           0,    0,    0,    0,    0,    0,    0,    0,    0,    0,    0,\n",
       "           0,    0,    0,    0,    0,    0,    0,    0,    0,    0,    0,\n",
       "           0,    0,    0,    0,    0,    0,    0,    0,    0,    0,    0,\n",
       "           0,    0,    0,    0,    0,    0,    0,    0,    0,    0,    0,\n",
       "           0,    0,    0,    0,    0,    0,    0,    0,    0,    0,    0,\n",
       "           0,    0,    0,    0,    0,    0,    0,    0,    0,    0,    0,\n",
       "           0,    0,    0,    0,    0,    0,    0,    0,    0,    0,    0,\n",
       "           0,    0,    0,    0,    0,    0,    0,    1,   14,   22,   16,\n",
       "          43,  530,  973, 1622, 1385,   65,  458, 4468,   66, 3941,    4,\n",
       "         173,   36,  256,    5,   25,  100,   43,  838,  112,   50,  670,\n",
       "           2,    9,   35,  480,  284,    5,  150,    4,  172,  112,  167,\n",
       "           2,  336,  385,   39,    4,  172, 4536, 1111,   17,  546,   38,\n",
       "          13,  447,    4,  192,   50,   16,    6,  147, 2025,   19,   14,\n",
       "          22,    4, 1920, 4613,  469,    4,   22,   71,   87,   12,   16,\n",
       "          43,  530,   38,   76,   15,   13, 1247,    4,   22,   17,  515,\n",
       "          17,   12,   16,  626,   18,    2,    5,   62,  386,   12,    8,\n",
       "         316,    8,  106,    5,    4, 2223,    2,   16,  480,   66, 3785,\n",
       "          33,    4,  130,   12,   16,   38,  619,    5,   25,  124,   51,\n",
       "          36,  135,   48,   25, 1415,   33,    6,   22,   12,  215,   28,\n",
       "          77,   52,    5,   14,  407,   16,   82,    2,    8,    4,  107,\n",
       "         117,    2,   15,  256,    4,    2,    7, 3766,    5,  723,   36,\n",
       "          71,   43,  530,  476,   26,  400,  317,   46,    7,    4,    2,\n",
       "        1029,   13,  104,   88,    4,  381,   15,  297,   98,   32, 2071,\n",
       "          56,   26,  141,    6,  194,    2,   18,    4,  226,   22,   21,\n",
       "         134,  476,   26,  480,    5,  144,   30,    2,   18,   51,   36,\n",
       "          28,  224,   92,   25,  104,    4,  226,   65,   16,   38, 1334,\n",
       "          88,   12,   16,  283,    5,   16, 4472,  113,  103,   32,   15,\n",
       "          16,    2,   19,  178,   32], dtype=int32))"
      ]
     },
     "execution_count": 5,
     "metadata": {},
     "output_type": "execute_result"
    }
   ],
   "source": [
    "y_train[0], X_train[0]"
   ]
  },
  {
   "cell_type": "markdown",
   "metadata": {
    "id": "rkdpCLgmjtD2"
   },
   "source": [
    "# DNN Training"
   ]
  },
  {
   "cell_type": "code",
   "execution_count": 6,
   "metadata": {
    "id": "4-In526wMPAB"
   },
   "outputs": [],
   "source": [
    "def build_model1():\n",
    "    # create the model\n",
    "    model = Sequential()\n",
    "    model.add(Embedding(top_words, 32, input_length=max_words))\n",
    "    model.add(Flatten())\n",
    "    model.add(Dense(250, activation='relu'))\n",
    "    model.add(Dense(1, activation='sigmoid'))\n",
    "    model.compile(loss='binary_crossentropy', optimizer='adam', metrics=['accuracy'])\n",
    "\n",
    "    return model\n"
   ]
  },
  {
   "cell_type": "code",
   "execution_count": 7,
   "metadata": {
    "colab": {
     "base_uri": "https://localhost:8080/"
    },
    "id": "yLmojb9GjSuk",
    "outputId": "e93d3a89-d6e1-4ff0-aa7f-679d1438892e"
   },
   "outputs": [
    {
     "name": "stdout",
     "output_type": "stream",
     "text": [
      "Model: \"sequential\"\n",
      "_________________________________________________________________\n",
      " Layer (type)                Output Shape              Param #   \n",
      "=================================================================\n",
      " embedding (Embedding)       (None, 500, 32)           160000    \n",
      "                                                                 \n",
      " flatten (Flatten)           (None, 16000)             0         \n",
      "                                                                 \n",
      " dense (Dense)               (None, 250)               4000250   \n",
      "                                                                 \n",
      " dense_1 (Dense)             (None, 1)                 251       \n",
      "                                                                 \n",
      "=================================================================\n",
      "Total params: 4160501 (15.87 MB)\n",
      "Trainable params: 4160501 (15.87 MB)\n",
      "Non-trainable params: 0 (0.00 Byte)\n",
      "_________________________________________________________________\n"
     ]
    }
   ],
   "source": [
    "model1 = build_model1()\n",
    "model1.summary()"
   ]
  },
  {
   "cell_type": "code",
   "execution_count": 8,
   "metadata": {
    "colab": {
     "base_uri": "https://localhost:8080/"
    },
    "id": "rU7Rfee1j1en",
    "outputId": "e3cfa38a-10a0-4ff7-fc96-8829207e4385"
   },
   "outputs": [
    {
     "name": "stdout",
     "output_type": "stream",
     "text": [
      "Epoch 1/2\n",
      "40/40 - 9s - loss: 0.6963 - accuracy: 0.5198 - val_loss: 0.6909 - val_accuracy: 0.5150 - 9s/epoch - 236ms/step\n",
      "Epoch 2/2\n",
      "40/40 - 5s - loss: 0.5627 - accuracy: 0.7430 - val_loss: 0.5570 - val_accuracy: 0.7170 - 5s/epoch - 131ms/step\n",
      "Accuracy: 71.70%\n"
     ]
    }
   ],
   "source": [
    "# Train the model: use the test data as validation data for convenience\n",
    "model1.fit(X_train, y_train, validation_data=(X_test, y_test), epochs=2, batch_size=128, verbose=2)\n",
    "\n",
    "# evaluation of the model\n",
    "scores = model1.evaluate(X_test, y_test, verbose=0)\n",
    "print(\"Accuracy: %.2f%%\" % (scores[1]*100))"
   ]
  },
  {
   "cell_type": "code",
   "execution_count": 9,
   "metadata": {
    "id": "2w137xuHNEyH"
   },
   "outputs": [],
   "source": [
    "def build_model2():\n",
    "    # create the model\n",
    "    model = Sequential()\n",
    "    model.add(Embedding(top_words, 32, input_length=max_words))\n",
    "    model.add(Flatten())\n",
    "    model.add(Dense(250, activation='relu'))\n",
    "    model.add(Dense(100, activation='relu'))\n",
    "    model.add(Dense(50, activation='relu'))\n",
    "    model.add(Dense(1, activation='sigmoid'))\n",
    "    model.compile(loss='binary_crossentropy', optimizer='adam', metrics=['accuracy'])\n",
    "\n",
    "    return model\n"
   ]
  },
  {
   "cell_type": "code",
   "execution_count": 10,
   "metadata": {
    "colab": {
     "base_uri": "https://localhost:8080/"
    },
    "id": "apbhYVEjNTYj",
    "outputId": "9673c5a3-f5c9-4c02-f3a3-ca95a9f7cd2c"
   },
   "outputs": [
    {
     "name": "stdout",
     "output_type": "stream",
     "text": [
      "Model: \"sequential_1\"\n",
      "_________________________________________________________________\n",
      " Layer (type)                Output Shape              Param #   \n",
      "=================================================================\n",
      " embedding_1 (Embedding)     (None, 500, 32)           160000    \n",
      "                                                                 \n",
      " flatten_1 (Flatten)         (None, 16000)             0         \n",
      "                                                                 \n",
      " dense_2 (Dense)             (None, 250)               4000250   \n",
      "                                                                 \n",
      " dense_3 (Dense)             (None, 100)               25100     \n",
      "                                                                 \n",
      " dense_4 (Dense)             (None, 50)                5050      \n",
      "                                                                 \n",
      " dense_5 (Dense)             (None, 1)                 51        \n",
      "                                                                 \n",
      "=================================================================\n",
      "Total params: 4190451 (15.99 MB)\n",
      "Trainable params: 4190451 (15.99 MB)\n",
      "Non-trainable params: 0 (0.00 Byte)\n",
      "_________________________________________________________________\n"
     ]
    }
   ],
   "source": [
    "model2 = build_model2()\n",
    "model2.summary()"
   ]
  },
  {
   "cell_type": "code",
   "execution_count": 11,
   "metadata": {
    "colab": {
     "base_uri": "https://localhost:8080/"
    },
    "id": "fFKP0Q80OF1D",
    "outputId": "c68001c7-87b6-4982-a3e3-05cb1196a913"
   },
   "outputs": [
    {
     "name": "stdout",
     "output_type": "stream",
     "text": [
      "Epoch 1/2\n",
      "40/40 - 7s - loss: 0.6918 - accuracy: 0.5208 - val_loss: 0.6757 - val_accuracy: 0.5960 - 7s/epoch - 181ms/step\n",
      "Epoch 2/2\n",
      "40/40 - 5s - loss: 0.5186 - accuracy: 0.7272 - val_loss: 0.4456 - val_accuracy: 0.7910 - 5s/epoch - 131ms/step\n",
      "Accuracy: 79.10%\n"
     ]
    }
   ],
   "source": [
    "# Train the model: use the test data as validation data for convenience\n",
    "model2.fit(X_train, y_train, validation_data=(X_test, y_test), epochs=2, batch_size=128, verbose=2)\n",
    "\n",
    "# evaluation of the model\n",
    "scores = model2.evaluate(X_test, y_test, verbose=0)\n",
    "print(\"Accuracy: %.2f%%\" % (scores[1]*100))"
   ]
  },
  {
   "cell_type": "code",
   "execution_count": 12,
   "metadata": {
    "id": "dZx9GbI6PWf1"
   },
   "outputs": [],
   "source": [
    "model2 = build_model2()\n",
    "\n",
    "# use test set as the validation set for this exercise\n",
    "hist = model2.fit(X_train, y_train,\n",
    "                 epochs=20, batch_size=128, verbose=0,\n",
    "                 validation_data=(X_test, y_test))"
   ]
  },
  {
   "cell_type": "code",
   "execution_count": 13,
   "metadata": {
    "colab": {
     "base_uri": "https://localhost:8080/",
     "height": 472
    },
    "id": "4PlA9nU4Pn3T",
    "outputId": "aeeead75-9c9f-4d95-ffc4-9df408548003"
   },
   "outputs": [
    {
     "data": {
      "image/png": "[encoded data removed]",
      "text/plain": [
       "<Figure size 640x480 with 1 Axes>"
      ]
     },
     "metadata": {},
     "output_type": "display_data"
    }
   ],
   "source": [
    "plt.plot(hist.history['loss'])\n",
    "plt.plot(hist.history['val_loss'])\n",
    "plt.title('Model Loss')\n",
    "plt.ylabel('Loss')\n",
    "plt.xlabel('Epoch')\n",
    "plt.legend(['Train', 'Val'], loc='lower right')\n",
    "plt.show()"
   ]
  },
  {
   "cell_type": "code",
   "execution_count": 14,
   "metadata": {
    "id": "BieqotK4QHwd"
   },
   "outputs": [],
   "source": [
    "def build_model2_regularized():\n",
    "    # create the model\n",
    "    model = Sequential()\n",
    "    model.add(Embedding(top_words, 32, input_length=max_words))\n",
    "    model.add(Flatten())\n",
    "    model.add(Dense(250, activation='relu', kernel_regularizer=regularizers.l2(0.001)))\n",
    "    model.add(Dropout(0.5))\n",
    "    model.add(Dense(100, activation='relu'))\n",
    "    # model.add(Dropout(0.5))\n",
    "    model.add(Dense(50, activation='relu'))\n",
    "    # model.add(Dropout(0.5))\n",
    "    model.add(Dense(1, activation='sigmoid'))\n",
    "    model.compile(loss='binary_crossentropy', optimizer='adam', metrics=['accuracy'])\n",
    "\n",
    "    return model"
   ]
  },
  {
   "cell_type": "code",
   "execution_count": 15,
   "metadata": {
    "colab": {
     "base_uri": "https://localhost:8080/"
    },
    "id": "KWAq44yBSBrY",
    "outputId": "feb544f9-4f8b-43b5-ef3d-cd12f9a2c334"
   },
   "outputs": [
    {
     "name": "stdout",
     "output_type": "stream",
     "text": [
      "Model: \"sequential_3\"\n",
      "_________________________________________________________________\n",
      " Layer (type)                Output Shape              Param #   \n",
      "=================================================================\n",
      " embedding_3 (Embedding)     (None, 500, 32)           160000    \n",
      "                                                                 \n",
      " flatten_3 (Flatten)         (None, 16000)             0         \n",
      "                                                                 \n",
      " dense_10 (Dense)            (None, 250)               4000250   \n",
      "                                                                 \n",
      " dropout (Dropout)           (None, 250)               0         \n",
      "                                                                 \n",
      " dense_11 (Dense)            (None, 100)               25100     \n",
      "                                                                 \n",
      " dense_12 (Dense)            (None, 50)                5050      \n",
      "                                                                 \n",
      " dense_13 (Dense)            (None, 1)                 51        \n",
      "                                                                 \n",
      "=================================================================\n",
      "Total params: 4190451 (15.99 MB)\n",
      "Trainable params: 4190451 (15.99 MB)\n",
      "Non-trainable params: 0 (0.00 Byte)\n",
      "_________________________________________________________________\n"
     ]
    }
   ],
   "source": [
    "model2_reg = build_model2_regularized()\n",
    "model2_reg.summary()"
   ]
  },
  {
   "cell_type": "code",
   "execution_count": 16,
   "metadata": {
    "colab": {
     "base_uri": "https://localhost:8080/"
    },
    "id": "O5fZnDCeR-JL",
    "outputId": "86a1789d-c79a-4448-801d-9cb0e1de8ea7"
   },
   "outputs": [
    {
     "name": "stdout",
     "output_type": "stream",
     "text": [
      "Epoch 1/2\n",
      "40/40 - 7s - loss: 0.8875 - accuracy: 0.5138 - val_loss: 0.7380 - val_accuracy: 0.5380 - 7s/epoch - 164ms/step\n",
      "Epoch 2/2\n",
      "40/40 - 4s - loss: 0.6822 - accuracy: 0.6420 - val_loss: 0.5580 - val_accuracy: 0.7750 - 4s/epoch - 102ms/step\n",
      "Accuracy: 77.50%\n"
     ]
    }
   ],
   "source": [
    "# Train the model: use the test data as validation data for convenience\n",
    "hist = model2_reg.fit(X_train, y_train, validation_data=(X_test, y_test), epochs=2, batch_size=128, verbose=2)\n",
    "\n",
    "# evaluation of the model\n",
    "scores = model2_reg.evaluate(X_test, y_test, verbose=0)\n",
    "print(\"Accuracy: %.2f%%\" % (scores[1]*100))"
   ]
  },
  {
   "cell_type": "code",
   "execution_count": 17,
   "metadata": {
    "colab": {
     "base_uri": "https://localhost:8080/"
    },
    "id": "7BGabiw9Sk1Z",
    "outputId": "65507437-f0e3-40db-e148-47515cca0a82"
   },
   "outputs": [
    {
     "data": {
      "text/plain": [
       "0.6821855306625366"
      ]
     },
     "execution_count": 17,
     "metadata": {},
     "output_type": "execute_result"
    }
   ],
   "source": [
    "# get the loss value at the last epoch\n",
    "hist.history['loss'][-1]"
   ]
  },
  {
   "cell_type": "code",
   "execution_count": 18,
   "metadata": {
    "id": "wX5H83gdQXHP"
   },
   "outputs": [],
   "source": [
    "model2_reg = build_model2_regularized()\n",
    "\n",
    "# use test set as the validation set for this exercise\n",
    "hist = model2_reg.fit(X_train, y_train,\n",
    "                 epochs=20, batch_size=128, verbose=0,\n",
    "                 validation_data=(X_test, y_test))"
   ]
  },
  {
   "cell_type": "code",
   "execution_count": 19,
   "metadata": {
    "colab": {
     "base_uri": "https://localhost:8080/",
     "height": 472
    },
    "id": "lvooWB7HQdg5",
    "outputId": "0531287d-9272-4ac0-ec07-926999ffbb1e"
   },
   "outputs": [
    {
     "data": {
      "image/png": "[encoded data removed]",
      "text/plain": [
       "<Figure size 640x480 with 1 Axes>"
      ]
     },
     "metadata": {},
     "output_type": "display_data"
    }
   ],
   "source": [
    "plt.plot(hist.history['loss'])\n",
    "plt.plot(hist.history['val_loss'])\n",
    "plt.title('Model Loss')\n",
    "plt.ylabel('Loss')\n",
    "plt.xlabel('Epoch')\n",
    "plt.legend(['Train', 'Val'], loc='lower right')\n",
    "plt.show()"
   ]
  },
  {
   "cell_type": "markdown",
   "metadata": {
    "id": "FfSvHTKRWaFU"
   },
   "source": [
    "# RNN Training"
   ]
  },
  {
   "cell_type": "code",
   "execution_count": 20,
   "metadata": {
    "id": "TZkn-RF9WXiY"
   },
   "outputs": [],
   "source": [
    "def build_RNN_model3():\n",
    "    # create the model\n",
    "    model = Sequential()\n",
    "    model.add(Embedding(top_words, 32, input_length=max_words))\n",
    "    # model.add(GRU(LSTM, return_sequences=True))  # RNN layer with 128 units\n",
    "    model.add(Bidirectional(LSTM(32)))  # Another RNN layer, you can adjust the number of units\n",
    "    model.add(Dense(1, activation='sigmoid'))\n",
    "    model.compile(loss='binary_crossentropy', optimizer='adam', metrics=['accuracy'])\n",
    "\n",
    "    return model"
   ]
  },
  {
   "cell_type": "code",
   "execution_count": 21,
   "metadata": {
    "colab": {
     "base_uri": "https://localhost:8080/"
    },
    "id": "yKTZYABohwah",
    "outputId": "00d68622-9126-41f5-b02d-e23c4e959ac7"
   },
   "outputs": [
    {
     "name": "stdout",
     "output_type": "stream",
     "text": [
      "Model: \"sequential_5\"\n",
      "_________________________________________________________________\n",
      " Layer (type)                Output Shape              Param #   \n",
      "=================================================================\n",
      " embedding_5 (Embedding)     (None, 500, 32)           160000    \n",
      "                                                                 \n",
      " bidirectional (Bidirection  (None, 64)                16640     \n",
      " al)                                                             \n",
      "                                                                 \n",
      " dense_18 (Dense)            (None, 1)                 65        \n",
      "                                                                 \n",
      "=================================================================\n",
      "Total params: 176705 (690.25 KB)\n",
      "Trainable params: 176705 (690.25 KB)\n",
      "Non-trainable params: 0 (0.00 Byte)\n",
      "_________________________________________________________________\n"
     ]
    }
   ],
   "source": [
    "model3_rnn = build_RNN_model3()\n",
    "model3_rnn.summary()"
   ]
  },
  {
   "cell_type": "code",
   "execution_count": 22,
   "metadata": {
    "colab": {
     "base_uri": "https://localhost:8080/"
    },
    "id": "C4K8gvyUhuFW",
    "outputId": "424e2370-354b-4951-ea6a-6a29133df778"
   },
   "outputs": [
    {
     "name": "stdout",
     "output_type": "stream",
     "text": [
      "Epoch 1/2\n",
      "40/40 - 9s - loss: 0.6889 - accuracy: 0.5494 - val_loss: 0.6754 - val_accuracy: 0.5020 - 9s/epoch - 234ms/step\n",
      "Epoch 2/2\n",
      "40/40 - 4s - loss: 0.5643 - accuracy: 0.7304 - val_loss: 0.4435 - val_accuracy: 0.8200 - 4s/epoch - 109ms/step\n",
      "Accuracy: 82.00%\n"
     ]
    }
   ],
   "source": [
    "# Train the model: use the test data as validation data for convenience\n",
    "hist = model3_rnn.fit(X_train, y_train, validation_data=(X_test, y_test), epochs=2, batch_size=128, verbose=2)\n",
    "\n",
    "# evaluation of the model\n",
    "scores = model3_rnn.evaluate(X_test, y_test, verbose=0)\n",
    "print(\"Accuracy: %.2f%%\" % (scores[1]*100))"
   ]
  },
  {
   "cell_type": "markdown",
   "metadata": {
    "id": "I5exGtmMmALz"
   },
   "source": [
    "# Test with a raw text"
   ]
  },
  {
   "cell_type": "code",
   "execution_count": 23,
   "metadata": {
    "id": "3-uB8zfHnHJo"
   },
   "outputs": [],
   "source": [
    "def format_text(raw_string):\n",
    "    # Load the word index\n",
    "    word_index = imdb.get_word_index()\n",
    "\n",
    "    # Convert words to integers\n",
    "    test_words = raw_string.lower().split()\n",
    "    test_integers = [word_index.get(word, 0) for word in test_words if word_index.get(word, 0) < 5000]\n",
    "\n",
    "    # Pad sequence\n",
    "    test_input = sequence.pad_sequences([test_integers], maxlen=500)\n",
    "\n",
    "    return test_input"
   ]
  },
  {
   "cell_type": "code",
   "execution_count": 24,
   "metadata": {
    "colab": {
     "base_uri": "https://localhost:8080/",
     "height": 87
    },
    "id": "Fdc97sx7mfV4",
    "outputId": "153c353d-4316-418c-c79c-d446f72c58c6"
   },
   "outputs": [
    {
     "data": {
      "application/vnd.google.colaboratory.intrinsic+json": {
       "type": "string"
      },
      "text/plain": [
       "' in one of my many videos i have attained from the local library , casablanca was my third classic in some weeks . \\nthe others being citizen kane and vertigo ( yes , i am trying to see as many of afi\\'s greatest movies ever made as i can ) . \\nbut , casablanca stood out from the rest for me : it was actually watchable . \\nwhat most hail as the greatest american film ever , casablanca isn\\'t so much a love story as a political frenzy with a love triangle thrown in . \\nit seems that star humphry bogart spend about 85 percent of the movie with various leaders of the nation instead of with ingred bergman . \\nthat annoyed me , as did the ending . \\nwhy didn\\'t the plan turn around ? ! ? \\nsurprisingly , i enjoyed the film . \\ni liked bogart\\'s character and his acting ( not over the top as most actors in his era ) . \\ni once read about if you had a choice to be in a movie , which one would it be , and a women said casablanca . \\nat first i was thinking to myself \" why ? \" \\nthen , as i watched the film again , i understood why . \\nthe movie is very well done and the script top-notch , although i doubt i understood more than half of the political mumbo jumbo . \\ncasablanca is , in my mind , no classic ( like solaris ) , but it is a good film and stylishly shot . \\nhey , hollywood , how about this : a remake with harrison ford and anne heche ? \\nnow that would be a classic . \\n'"
      ]
     },
     "execution_count": 24,
     "metadata": {},
     "output_type": "execute_result"
    }
   ],
   "source": [
    "# positive review instance\n",
    "test_instance1 = ''' in one of my many videos i have attained from the local library , casablanca was my third classic in some weeks .\n",
    "the others being citizen kane and vertigo ( yes , i am trying to see as many of afi's greatest movies ever made as i can ) .\n",
    "but , casablanca stood out from the rest for me : it was actually watchable .\n",
    "what most hail as the greatest american film ever , casablanca isn't so much a love story as a political frenzy with a love triangle thrown in .\n",
    "it seems that star humphry bogart spend about 85 percent of the movie with various leaders of the nation instead of with ingred bergman .\n",
    "that annoyed me , as did the ending .\n",
    "why didn't the plan turn around ? ! ?\n",
    "surprisingly , i enjoyed the film .\n",
    "i liked bogart's character and his acting ( not over the top as most actors in his era ) .\n",
    "i once read about if you had a choice to be in a movie , which one would it be , and a women said casablanca .\n",
    "at first i was thinking to myself \" why ? \"\n",
    "then , as i watched the film again , i understood why .\n",
    "the movie is very well done and the script top-notch , although i doubt i understood more than half of the political mumbo jumbo .\n",
    "casablanca is , in my mind , no classic ( like solaris ) , but it is a good film and stylishly shot .\n",
    "hey , hollywood , how about this : a remake with harrison ford and anne heche ?\n",
    "now that would be a classic .\n",
    "'''\n",
    "test_instance1"
   ]
  },
  {
   "cell_type": "code",
   "execution_count": 25,
   "metadata": {
    "colab": {
     "base_uri": "https://localhost:8080/",
     "height": 87
    },
    "id": "BI8p5tXCnXCr",
    "outputId": "6117a017-1c15-4b29-ae1a-c93a67eedd77"
   },
   "outputs": [
    {
     "data": {
      "application/vnd.google.colaboratory.intrinsic+json": {
       "type": "string"
      },
      "text/plain": [
       "'\\nwell , i\\'ll admit when i first heard about this film ( which was before dante\\'s peak ) i could just smell what \\'twister\\' had started . \\nso now it seems that we\\'re in a full fledged return to the \\'70\\'s disaster film era . \\nwith \\'twister\\' , \\'dante\\'s peak\\' , \\'volcano\\' and soon \\'flood\\' and james cameron\\'s extremly expensive \\'titanic\\' \\ni\\'ll say first off i enjoyed \\'volcano\\' much more than i did \\'dantes peak\\' . \\npart of that is just being biased as i usually enjoy anything that tommy lee jones appears in . \\ni\\'ve been reading a lot about the movie being \\'cheezy\\' or \\'hokey\\' and really didn\\'t see or think that once during the entire film . \\ni get bored easily and this film didn\\'t bore me for a minute . \\nanother thing , and boy am i bitching today ! , that bothers me is when critics and such go on about \" well thats not really possible . \" \\nyou know what ? \\ni couldn\\'t give a bloody damn if it\\'s possible or not , really i couldn\\'t . \\nit\\'s a freaking movie and i don\\'t want reality thrown in my face . \\ni want to be able to see the impossible , the all might \" what if \" to many reviewers have seen one to many movies ! \\nthe special effects are the second star to this feature . \\nthey are so amazing that i found it hard sometimes to believe they were indeed fx and la was was not burning to the ground . \\nthey did an incredible job and come oscar time ( if they remember ) some notice better be thrown there way . '"
      ]
     },
     "execution_count": 25,
     "metadata": {},
     "output_type": "execute_result"
    }
   ],
   "source": [
    "# positive review instance\n",
    "test_instance2 = '''\n",
    "well , i'll admit when i first heard about this film ( which was before dante's peak ) i could just smell what 'twister' had started .\n",
    "so now it seems that we're in a full fledged return to the '70's disaster film era .\n",
    "with 'twister' , 'dante's peak' , 'volcano' and soon 'flood' and james cameron's extremly expensive 'titanic'\n",
    "i'll say first off i enjoyed 'volcano' much more than i did 'dantes peak' .\n",
    "part of that is just being biased as i usually enjoy anything that tommy lee jones appears in .\n",
    "i've been reading a lot about the movie being 'cheezy' or 'hokey' and really didn't see or think that once during the entire film .\n",
    "i get bored easily and this film didn't bore me for a minute .\n",
    "another thing , and boy am i bitching today ! , that bothers me is when critics and such go on about \" well thats not really possible . \"\n",
    "you know what ?\n",
    "i couldn't give a bloody damn if it's possible or not , really i couldn't .\n",
    "it's a freaking movie and i don't want reality thrown in my face .\n",
    "i want to be able to see the impossible , the all might \" what if \" to many reviewers have seen one to many movies !\n",
    "the special effects are the second star to this feature .\n",
    "they are so amazing that i found it hard sometimes to believe they were indeed fx and la was was not burning to the ground .\n",
    "they did an incredible job and come oscar time ( if they remember ) some notice better be thrown there way . '''\n",
    "\n",
    "test_instance2"
   ]
  },
  {
   "cell_type": "code",
   "execution_count": 26,
   "metadata": {
    "colab": {
     "base_uri": "https://localhost:8080/"
    },
    "id": "z4xG3AsrkAHJ",
    "outputId": "3e9a8796-c84f-4e77-e3eb-f514b16354c1"
   },
   "outputs": [
    {
     "name": "stdout",
     "output_type": "stream",
     "text": [
      "Downloading data from https://storage.googleapis.com/tensorflow/tf-keras-datasets/imdb_word_index.json\n",
      "1641221/1641221 [==============================] - 1s 1us/step\n",
      "[[   0    0    0    0    0    0    0    0    0    0    0    0    0    0\n",
      "     0    0    0    0    0    0    0    0    0    0    0    0    0    0\n",
      "     0    0    0    0    0    0    0    0    0    0    0    0    0    0\n",
      "     0    0    0    0    0    0    0    0    0    0    0    0    0    0\n",
      "     0    0    0    0    0    0    0    0    0    0    0    0    0    0\n",
      "     0    0    0    0    0    0    0    0    0    0    0    0    0    0\n",
      "     0    0    0    0    0    0    0    0    0    0    0    0    0    0\n",
      "     0    0    0    0    0    0    0    0    0    0    0    0    0    0\n",
      "     0    0    0    0    0    0    0    0    0    0    0    0    0    0\n",
      "     0    0    0    0    0    0    0    0    0    0    0    0    0    0\n",
      "     0    0    0    0    0    0    0    0    0    0    0    0    0    0\n",
      "     0    0    0    0    0    0    0    0    0    0    0    0    0    0\n",
      "     0    0    0    0    0    0    0    0    0    0    0    0    0    0\n",
      "     0    0    0    0    0    0    0    0    0    0    0    0    0    0\n",
      "     0    0    0    0    0    0    0    0    0    0    0    0    0    0\n",
      "     0    0    0    0    0    0    0    0    0    0    0    0    0    0\n",
      "     0    0    0    0    0    0    0    0    0    0    8   28    4   58\n",
      "   108 3361   10   25   36    1  716 3320    0   13   58  837  353    8\n",
      "    46 2482    0    1  406  109 3842 3558    2    0  419    0   10  241\n",
      "   266    5   64   14  108    4  830   99  123   90   14   10   67    0\n",
      "     0   18    0 3402   43   36    1  357   15   69    0    9   13  162\n",
      "  1750    0   48   88   14    1  830  295   19  123    0  215   35   73\n",
      "     3  116   62   14    3  990   16    3  116 1373    8    0    9  183\n",
      "    12  320    0 1139   41    4    1   17   16  995    4    1 2949  302\n",
      "     4   16 4999    0   12 3219   69    0   14  119    1  274    0  135\n",
      "   158    1 1344  468  184    0    0    0 1235    0   10  507    1   19\n",
      "     0   10  420  106    2   24  113    0   21  117    1  347   14   88\n",
      "   153    8   24  996    0    0   10  277  329   41   45   22   66    3\n",
      "  1096    5   27    8    3   17    0   60   28   59    9   27    0    2\n",
      "     3  369  298    0   30   83   10   13  533    5  543    0  135    0\n",
      "     0   92    0   14   10  293    1   19  171    0   10 2714  135    0\n",
      "     1   17    6   52   70  221    2    1  226    0    0  258   10  821\n",
      "    10 2714   50   71  317    4    1  990    0    6    0    8   58  327\n",
      "     0   54  353    0   37    0    0   18    9    6    3   49   19    2\n",
      "   321    0 1397    0  360    0   86   41   11    0    3 1031   16 2105\n",
      "     2 2157    0  147   12   59   27    3  353    0]]\n",
      "1/1 [==============================] - 0s 94ms/step\n",
      "Prediction probability: 0.0002173686\n"
     ]
    }
   ],
   "source": [
    "test_input1 = format_text(test_instance1)\n",
    "print(test_input1)\n",
    "\n",
    "# Prediction\n",
    "prediction = model2.predict(test_input1)\n",
    "probability = prediction[0][0]\n",
    "\n",
    "# Print the probability\n",
    "print(\"Prediction probability:\", probability)\n"
   ]
  },
  {
   "cell_type": "code",
   "execution_count": 27,
   "metadata": {
    "colab": {
     "base_uri": "https://localhost:8080/"
    },
    "id": "YBIV8Vj8mptC",
    "outputId": "e0d2031e-ae1e-46a3-c78b-f631043d7fe9"
   },
   "outputs": [
    {
     "name": "stdout",
     "output_type": "stream",
     "text": [
      "[[   0    0    0    0    0    0    0    0    0    0    0    0    0    0\n",
      "     0    0    0    0    0    0    0    0    0    0    0    0    0    0\n",
      "     0    0    0    0    0    0    0    0    0    0    0    0    0    0\n",
      "     0    0    0    0    0    0    0    0    0    0    0    0    0    0\n",
      "     0    0    0    0    0    0    0    0    0    0    0    0    0    0\n",
      "     0    0    0    0    0    0    0    0    0    0    0    0    0    0\n",
      "     0    0    0    0    0    0    0    0    0    0    0    0    0    0\n",
      "     0    0    0    0    0    0    0    0    0    0    0    0    0    0\n",
      "     0    0    0    0    0    0    0    0    0    0    0    0    0    0\n",
      "     0    0    0    0    0    0    0    0    0    0    0    0    0    0\n",
      "     0    0    0    0    0    0    0    0    0    0    0    0    0    0\n",
      "     0    0    0    0    0    0    0    0    0    0    0    0    0    0\n",
      "     0    0    0    0    0    0    0    0    0    0    0    0    0    0\n",
      "     0    0    0    0    0    0    0    0    0    0    0    0    0    0\n",
      "     0    0    0    0    0    0    0    0    0    0    0    0    0    0\n",
      "     0    0    0    0    0    0    0    0    0    0    0    0    0    0\n",
      "     0    0    0    0    0   70    0  634  971   51   10   83  554   41\n",
      "    11   19    0   60   13  156    0   10   97   40   48    0   66  642\n",
      "     0   35  147    9  183   12 1103    8    3  365  991    5    1 1687\n",
      "    19  996    0   16    0    0    0    0    0    0    2  512    2  589\n",
      "  3266  634  132   83  122   10  507    0   73   50   71   10  119    0\n",
      "     0    0  170    4   12    6   40  109   14   10  630  355  230   12\n",
      "  4041  845 1529  736    8    0  204   74  883    3  173   41    1   17\n",
      "   109    0   39    0    2   63  158   64   39  101   12  277  312    1\n",
      "   433   19    0   10   76 1097  711    2   11   19  158 2693   69   15\n",
      "     3  783    0  157  152    0    2  427  241   10  636    0    0   12\n",
      "    69    6   51 1415    2  138  137   20   41    0   70 1581   21   63\n",
      "   611    0    0   22  121   48    0   10  423  199    3 1772 1540   45\n",
      "    42  611   39   21    0   63   10  423    0   42    3   17    2   10\n",
      "    89  178  632 1373    8   58  390    0   10  178    5   27  499    5\n",
      "    64    1 1164    0    1   29  235    0   48   45    0    5  108 1986\n",
      "    25  107   28    5  108   99    0    1  315  299   23    1  330  320\n",
      "     5   11  789    0   33   23   35  477   12   10  255    9  251  515\n",
      "     5  261   33   68  846 3706    2 1077   13   13   21 3248    5    1\n",
      "  1562    0   33  119   32 1045  289    2  213  732   55    0   45   33\n",
      "   374    0   46 1492  125   27 1373   47   93    0]]\n",
      "1/1 [==============================] - 0s 19ms/step\n",
      "Prediction probability: 0.98557615\n"
     ]
    }
   ],
   "source": [
    "test_input2 = format_text(test_instance2)\n",
    "print(test_input2)\n",
    "\n",
    "# Prediction\n",
    "prediction = model2.predict(test_input2)\n",
    "probability = prediction[0][0]\n",
    "\n",
    "# Print the probability\n",
    "print(\"Prediction probability:\", probability)"
   ]
  },
  {
   "cell_type": "markdown",
   "metadata": {
    "id": "LgnYts6doLtz"
   },
   "source": [
    "# Building word_index from scratch for a given text dataset and other text processing tips\n",
    " - E.g., if you do not have access to the word_index = imdb.get_word_index()"
   ]
  },
  {
   "cell_type": "code",
   "execution_count": 28,
   "metadata": {
    "id": "Aeo_EuOqYJ-W"
   },
   "outputs": [],
   "source": [
    "# turn a doc into clean tokens\n",
    "def clean_doc(doc):\n",
    "\t# split into tokens by white space\n",
    "\ttokens = doc.split()\n",
    "\t# remove punctuation from each token\n",
    "\ttable = str.maketrans('', '', string.punctuation)\n",
    "\ttokens = [w.translate(table) for w in tokens]\n",
    "\t# remove remaining tokens that are not alphabetic\n",
    "\ttokens = [word for word in tokens if word.isalpha()]\n",
    "\t# filter out stop words\n",
    "\tstop_words = set(stopwords.words('english'))\n",
    "\ttokens = [w for w in tokens if not w in stop_words]\n",
    "\t# filter out short tokens\n",
    "\ttokens = [word for word in tokens if len(word) > 1]\n",
    "\treturn tokens"
   ]
  },
  {
   "cell_type": "code",
   "execution_count": 29,
   "metadata": {
    "id": "Cfh8K3KLbsY1"
   },
   "outputs": [],
   "source": [
    "tokens1 = clean_doc(test_instance1)\n",
    "tokens2 = clean_doc(test_instance2)\n",
    "# print(tokens1)\n",
    "\n",
    "# Example training data (replace with your actual training texts)\n",
    "# train_texts = [\"example text one\", \"example text two\", \"another text example\"]\n",
    "train_texts = [tokens1] + [tokens2]"
   ]
  },
  {
   "cell_type": "code",
   "execution_count": 30,
   "metadata": {
    "colab": {
     "base_uri": "https://localhost:8080/"
    },
    "id": "FsHJUjx2nsuk",
    "outputId": "add4f71d-2ecc-4e21-f118-b4855ff106e6"
   },
   "outputs": [
    {
     "name": "stdout",
     "output_type": "stream",
     "text": [
      "word_index {'film': 1, 'casablanca': 2, 'movie': 3, 'many': 4, 'one': 5, 'classic': 6, 'see': 7, 'thrown': 8, 'didnt': 9, 'first': 10, 'well': 11, 'dantes': 12, 'peak': 13, 'really': 14, 'greatest': 15, 'movies': 16, 'ever': 17, 'much': 18, 'love': 19, 'political': 20, 'seems': 21, 'star': 22, 'enjoyed': 23, 'era': 24, 'would': 25, 'understood': 26, 'ill': 27, 'twister': 28, 'volcano': 29, 'possible': 30, 'couldnt': 31, 'want': 32, 'videos': 33, 'attained': 34, 'local': 35, 'library': 36, 'third': 37, 'weeks': 38, 'others': 39, 'citizen': 40, 'kane': 41, 'vertigo': 42, 'yes': 43, 'trying': 44, 'afis': 45, 'made': 46, 'stood': 47, 'rest': 48, 'actually': 49, 'watchable': 50, 'hail': 51, 'american': 52, 'isnt': 53, 'story': 54, 'frenzy': 55, 'triangle': 56, 'humphry': 57, 'bogart': 58, 'spend': 59, 'percent': 60, 'various': 61, 'leaders': 62, 'nation': 63, 'instead': 64, 'ingred': 65, 'bergman': 66, 'annoyed': 67, 'ending': 68, 'plan': 69, 'turn': 70, 'around': 71, 'surprisingly': 72, 'liked': 73, 'bogarts': 74, 'character': 75, 'acting': 76, 'top': 77, 'actors': 78, 'read': 79, 'choice': 80, 'women': 81, 'said': 82, 'thinking': 83, 'watched': 84, 'done': 85, 'script': 86, 'topnotch': 87, 'although': 88, 'doubt': 89, 'half': 90, 'mumbo': 91, 'jumbo': 92, 'mind': 93, 'like': 94, 'solaris': 95, 'good': 96, 'stylishly': 97, 'shot': 98, 'hey': 99, 'hollywood': 100, 'remake': 101, 'harrison': 102, 'ford': 103, 'anne': 104, 'heche': 105, 'admit': 106, 'heard': 107, 'could': 108, 'smell': 109, 'started': 110, 'full': 111, 'fledged': 112, 'return': 113, 'disaster': 114, 'soon': 115, 'flood': 116, 'james': 117, 'camerons': 118, 'extremly': 119, 'expensive': 120, 'titanic': 121, 'say': 122, 'part': 123, 'biased': 124, 'usually': 125, 'enjoy': 126, 'anything': 127, 'tommy': 128, 'lee': 129, 'jones': 130, 'appears': 131, 'ive': 132, 'reading': 133, 'lot': 134, 'cheezy': 135, 'hokey': 136, 'think': 137, 'entire': 138, 'get': 139, 'bored': 140, 'easily': 141, 'bore': 142, 'minute': 143, 'another': 144, 'thing': 145, 'boy': 146, 'bitching': 147, 'today': 148, 'bothers': 149, 'critics': 150, 'go': 151, 'thats': 152, 'know': 153, 'give': 154, 'bloody': 155, 'damn': 156, 'freaking': 157, 'dont': 158, 'reality': 159, 'face': 160, 'able': 161, 'impossible': 162, 'might': 163, 'reviewers': 164, 'seen': 165, 'special': 166, 'effects': 167, 'second': 168, 'feature': 169, 'amazing': 170, 'found': 171, 'hard': 172, 'sometimes': 173, 'believe': 174, 'indeed': 175, 'fx': 176, 'la': 177, 'burning': 178, 'ground': 179, 'incredible': 180, 'job': 181, 'come': 182, 'oscar': 183, 'time': 184, 'remember': 185, 'notice': 186, 'better': 187, 'way': 188, '<UNK>': 189}\n",
      "test_padded:\n",
      " [[  0   0   0   0   0   0  96 189  11  85]]\n"
     ]
    }
   ],
   "source": [
    "### creating word index from raw text\n",
    "\n",
    "# Step 1: Tokenize the text\n",
    "# words = [word for text in train_texts for word in text.lower().split()]\n",
    "words = [word for text in train_texts for word in text]\n",
    "\n",
    "# Step 2: Build a frequency dictionary\n",
    "word_counts = Counter(words)\n",
    "\n",
    "# Step 3: Create the word index (starting from index 1)\n",
    "vocab_size = 5000  # For instance, top 5000 words\n",
    "word_index = {word: index+1 for index, (word, _) in enumerate(word_counts.most_common(vocab_size))}\n",
    "\n",
    "# Include a token for unknown words\n",
    "word_index[\"<UNK>\"] = len(word_index) + 1\n",
    "print(\"word_index\", word_index)\n",
    "\n",
    "# Function to convert text to integers\n",
    "def text_to_integers(text):\n",
    "    return [word_index.get(word, word_index[\"<UNK>\"]) for word in text.lower().split()]\n",
    "\n",
    "# Convert your test instance\n",
    "test_instance = \"good film, well done\"\n",
    "test_integers = text_to_integers(test_instance)\n",
    "\n",
    "# Padding\n",
    "max_words = 10 # e.g., usually 500\n",
    "test_input = np.array([test_integers])\n",
    "test_padded = sequence.pad_sequences(test_input, maxlen=max_words)\n",
    "print(\"test_padded:\\n\", test_padded)"
   ]
  },
  {
   "cell_type": "code",
   "execution_count": 31,
   "metadata": {
    "colab": {
     "base_uri": "https://localhost:8080/"
    },
    "id": "hdSZLLGwXPhW",
    "outputId": "c7c0f2f2-4466-4a4c-fb45-ae64137d563b"
   },
   "outputs": [
    {
     "name": "stdout",
     "output_type": "stream",
     "text": [
      "train_texts[0]:\n",
      " ['one', 'many', 'videos', 'attained', 'local']\n",
      "train_texts[1]:\n",
      " ['well', 'ill', 'admit', 'first', 'heard']\n",
      "encoded_docs[0]:\n",
      " [5, 4, 33, 34, 35]\n",
      "encoded_docs[1]:\n",
      " [11, 27, 106, 10, 107]\n",
      "Xtrain_new[0]:\n",
      " [ 5  4 33 34 35]\n",
      "tokens_test:\n",
      " ['good', 'film', 'well', 'done']\n",
      "encoded_test:\n",
      " [[96, 1, 11, 85]]\n",
      "encoded_test_padded:\n",
      " [[ 0  0  0  0  0  0 96  1 11 85]]\n"
     ]
    }
   ],
   "source": [
    "### preprocessing text data using tokenizer\n",
    "\n",
    "# create the tokenizer\n",
    "tokenizer = Tokenizer()\n",
    "# fit the tokenizer on the documents\n",
    "tokenizer.fit_on_texts(train_texts)\n",
    "print(\"train_texts[0]:\\n\", train_texts[0][:5])\n",
    "print(\"train_texts[1]:\\n\", train_texts[1][:5])\n",
    "\n",
    "# sequence encode\n",
    "encoded_docs = tokenizer.texts_to_sequences(train_texts)\n",
    "print(\"encoded_docs[0]:\\n\", encoded_docs[0][:5])\n",
    "print(\"encoded_docs[1]:\\n\", encoded_docs[1][:5])\n",
    "\n",
    "# you can directly use the below as your training data\n",
    "Xtrain_new = pad_sequences(encoded_docs, maxlen=500, padding='post')\n",
    "print(\"Xtrain_new[0]:\\n\", Xtrain_new[0][:5])\n",
    "\n",
    "# Convert your test instance\n",
    "test_instance = \"good film, well done\"\n",
    "tokens_test = clean_doc(test_instance)\n",
    "print(\"tokens_test:\\n\", tokens_test)\n",
    "\n",
    "# sequence encode\n",
    "encoded_test = tokenizer.texts_to_sequences([tokens_test])\n",
    "print(\"encoded_test:\\n\", encoded_test)\n",
    "\n",
    "# pad sequences\n",
    "max_words = 10\n",
    "encoded_test_padded = pad_sequences(encoded_test, maxlen=max_words, padding='pre')\n",
    "print(\"encoded_test_padded:\\n\", encoded_test_padded)"
   ]
  },
  {
   "cell_type": "code",
   "execution_count": 31,
   "metadata": {
    "id": "ecJ-3H1bcWZL"
   },
   "outputs": [],
   "source": []
  }
 ],
 "metadata": {
  "accelerator": "GPU",
  "colab": {
   "gpuType": "A100",
   "provenance": []
  },
  "kernelspec": {
   "display_name": "Python 3 (ipykernel)",
   "language": "python",
   "name": "python3"
  },
  "language_info": {
   "codemirror_mode": {
    "name": "ipython",
    "version": 3
   },
   "file_extension": ".py",
   "mimetype": "text/x-python",
   "name": "python",
   "nbconvert_exporter": "python",
   "pygments_lexer": "ipython3",
   "version": "3.11.4"
  }
 },
 "nbformat": 4,
 "nbformat_minor": 1
}
